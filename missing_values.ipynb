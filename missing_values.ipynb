{
  "nbformat": 4,
  "nbformat_minor": 0,
  "metadata": {
    "colab": {
      "provenance": [],
      "gpuType": "T4"
    },
    "kernelspec": {
      "name": "python3",
      "display_name": "Python 3"
    },
    "language_info": {
      "name": "python"
    },
    "accelerator": "GPU"
  },
  "cells": [
    {
      "cell_type": "markdown",
      "source": [
        "# Objective:\n",
        "The goal of this exercise is to predict missing ratings in the Rating.csv dataset by iteratively updating missing values using regression models like decision trees or neural networks."
      ],
      "metadata": {
        "id": "lfSCCz4JtLAI"
      }
    },
    {
      "cell_type": "markdown",
      "source": [
        "# Dataset Details:\n",
        "The dataset [Download here](https://www.kaggle.com/datasets/CooperUnion/anime-recommendations-database) contains the following columns:\n",
        "\n",
        "user_id: A randomly generated user ID (non-identifiable).\n",
        "anime_id: The ID of the anime rated by the user.\n",
        "rating: The rating the user assigned to the anime (range 1-10) or -1 if the user watched the anime but didn’t provide a rating."
      ],
      "metadata": {
        "id": "N7C_GIZttRsx"
      }
    },
    {
      "cell_type": "markdown",
      "source": [
        "# **# Steps for the Exercise:**\n",
        "\n",
        "# 1. Data Preparation:\n",
        "Load and Explore the Data:\n",
        "\n",
        "Load the dataset into a Pandas DataFrame.\n",
        "Explore the data to understand the structure, missing values (rating = -1), and general distribution."
      ],
      "metadata": {
        "id": "jNybcd64tWcz"
      }
    },
    {
      "cell_type": "code",
      "execution_count": null,
      "metadata": {
        "id": "9gzQw_W2tKCi"
      },
      "outputs": [],
      "source": [
        "import pandas as pd\n",
        "data = pd.read_csv('rating.csv')\n",
        "print(data.head())\n",
        "missing_data = data[data['rating'].isin([-1, None])]\n",
        "print(\"Missing data:\\n\", missing_data)"
      ]
    },
    {
      "cell_type": "markdown",
      "source": [
        "# 2. Regression-Based Imputation (Iterative Approach):\n",
        "Setting Up the Regression Model:\n",
        "\n",
        "For simplicity, you can use a decision tree regression model to predict the missing values.\n",
        "Create a feature matrix (X) and target vector (y), where X consists of user_id, anime_id, and any other useful features (like user averages), and y is the rating."
      ],
      "metadata": {
        "id": "Gy-n2oZDuLAB"
      }
    },
    {
      "cell_type": "code",
      "source": [
        "from sklearn.model_selection import train_test_split\n",
        "from sklearn.tree import DecisionTreeRegressor\n",
        "\n",
        "# Feature Engineering: Add user-based averages or anime-based averages\n",
        "data['user_avg_rating'] = data.groupby('user_id')['rating'].transform('mean')\n",
        "data['anime_avg_rating'] = data.groupby('anime_id')['rating'].transform('mean')\n",
        "\n",
        "# Filter out missing data (where rating == -1, treated as missing)\n",
        "train_data =\n",
        "\n",
        "# Features: user_id, anime_id, user_avg_rating, anime_avg_rating\n",
        "X =\n",
        "y=\n",
        "\n",
        "# Train-test split (to ensure good model performance evaluation)\n",
        "X_train, X_test, y_train, y_test = train_test_split(X, y, test_size=0.2, random_state=42)"
      ],
      "metadata": {
        "id": "G8nfdecJuVqF"
      },
      "execution_count": 25,
      "outputs": []
    },
    {
      "cell_type": "markdown",
      "source": [
        "# 3. Train a Regression Model (Decision Tree in this case):"
      ],
      "metadata": {
        "id": "PWPGv0sVudyp"
      }
    },
    {
      "cell_type": "code",
      "source": [
        "# Train the Decision Tree Regressor model\n",
        "model = DecisionTreeRegressor(random_state=42)\n",
        "model.fit(X_train, y_train)\n",
        "\n",
        "# Evaluate model performance\n",
        "score = model.score(X_test, y_test)\n",
        "print(f\"Model R-squared score: {score}\")"
      ],
      "metadata": {
        "id": "SOZnZjEwuh_T"
      },
      "execution_count": null,
      "outputs": []
    },
    {
      "cell_type": "markdown",
      "source": [
        "# 4. Impute Missing Values Using the Trained Model:\n",
        "\n",
        "For each missing rating, predict it using the trained regression model.\n"
      ],
      "metadata": {
        "id": "0TDzOg8zukU6"
      }
    },
    {
      "cell_type": "code",
      "source": [
        "# Now, predict ratings for the missing data (where rating == -1 or NaN)\n",
        "missing_data = data[data['rating'].isin([-1, None])]  # Treat both -1 and NaN as missing\n",
        "\n",
        "# Predict the missing ratings\n",
        "\n",
        "\n",
        "# Update the DataFrame with the predicted ratings for missing values\n",
        "data.loc[missing_data.index, 'rating'] = predicted_ratings\n",
        "\n",
        "# Output the updated DataFrame\n",
        "print(\"\\nUpdated DataFrame with predicted ratings:\\n\", data)"
      ],
      "metadata": {
        "id": "i_E78dRbus30"
      },
      "execution_count": null,
      "outputs": []
    },
    {
      "cell_type": "markdown",
      "source": [
        "# 5. Repeat the Process:\n",
        "\n",
        "After updating the ratings, you can re-train the model with the newly imputed data and predict again, improving the quality of the imputed values."
      ],
      "metadata": {
        "id": "0BoOMu29uwr8"
      }
    },
    {
      "cell_type": "code",
      "source": [
        "# Iterative imputation process\n",
        "max_iterations = 5  # Set the number of iterations for improving predictions\n",
        "\n",
        "for i in range(max_iterations):\n",
        "    # Now, predict ratings for the missing data (where rating == -1 or NaN)\n",
        "    missing_data = data[data['rating'].isin([-1, None])]  # Treat both -1 and NaN as missing\n",
        "\n",
        "    # Predict the missing ratings\n",
        "\n",
        "\n",
        "    # Update the DataFrame with the predicted ratings for missing values\n",
        "    data.loc[missing_data.index, 'rating'] = predicted_ratings\n",
        "\n",
        "    # Re-train the model with the updated data (including the imputed values)\n",
        "\n",
        "\n",
        "    # Re-train the model on the updated data\n",
        "    model.fit(X, y)\n",
        ""
      ],
      "metadata": {
        "id": "X-F3VE01xkGy"
      },
      "execution_count": 29,
      "outputs": []
    },
    {
      "cell_type": "code",
      "source": [
        "# After completing the iterations, print the final updated values\n",
        "print(\"\\nFinal Updated DataFrame with Imputed Ratings:\")\n",
        "print(data[['user_id', 'anime_id', 'rating']].head())  # Print the top rows with updated ratings for review"
      ],
      "metadata": {
        "id": "BOkKEZzg0-20"
      },
      "execution_count": null,
      "outputs": []
    },
    {
      "cell_type": "markdown",
      "source": [
        "# 6. Evaluation:\n",
        "Measure Accuracy:\n",
        "\n",
        "After filling in missing ratings, evaluate how well the model performs on the imputed ratings.\n",
        "Use a root mean squared error (RMSE) or mean absolute error (MAE) to measure prediction accuracy."
      ],
      "metadata": {
        "id": "6OGtlUI9vDGi"
      }
    },
    {
      "cell_type": "code",
      "source": [
        "from sklearn.metrics import mean_absolute_error, mean_squared_error\n",
        "import numpy as np\n",
        "\n",
        "rmse = np.sqrt(mean_squared_error(y_test, model.predict(X_test)))\n",
        "print(f\"RMSE of model: {rmse}\")"
      ],
      "metadata": {
        "id": "AbJHhMMgvG8k"
      },
      "execution_count": null,
      "outputs": []
    }
  ]
}