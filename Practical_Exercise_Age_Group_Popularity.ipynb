{
  "nbformat": 4,
  "nbformat_minor": 0,
  "metadata": {
    "colab": {
      "provenance": []
    },
    "kernelspec": {
      "name": "python3",
      "display_name": "Python 3"
    },
    "language_info": {
      "name": "python"
    }
  },
  "cells": [
    {
      "cell_type": "markdown",
      "source": [
        "# Exercise: Analyzing Customer Purchase Data by Age Group\n",
        "In this exercise, you will analyze purchase data and visualize the most popular items for different age groups. Some parts of the code are missing. Your task is to complete the missing sections.\n",
        "\n",
        "Instructions:\n",
        "- Fill in the missing code sections marked as # FILL IN THE CODE.\n",
        "- Read the comments carefully for guidance."
      ],
      "metadata": {
        "id": "qV83QPbvv57a"
      }
    },
    {
      "cell_type": "code",
      "execution_count": null,
      "metadata": {
        "id": "XNrKhsvrv4MK"
      },
      "outputs": [],
      "source": [
        "# Import necessary libraries\n",
        "import pandas as pd\n",
        "import numpy as np\n",
        "import seaborn as sns\n",
        "import matplotlib.pyplot as plt\n",
        "from collections import Counter\n",
        "\n",
        "# Set a random seed for reproducibility\n",
        "np.random.seed(40)\n",
        "\n",
        "# Load the dataset\n",
        "df = pd.read_csv('data.csv', encoding='unicode_escape')\n",
        "\n",
        "# Create a list of age groups\n",
        "age_groups = ['18-30', '31-45', '46-60', '60+']\n",
        "\n",
        "# Set random seed for reproducibility\n",
        "np.random.seed(42)\n",
        "\n",
        "# Assign a random age group to each customer\n",
        "df['Age Group'] = # FILL IN THE CODE\n",
        "\n",
        "# Group the data by 'Age Group' and 'Description', summing the 'Quantity'\n",
        "age_grouped = # FILL IN THE CODE\n",
        "\n",
        "# Function to plot the top 10 items for a given age group\n",
        "def plot_top_10_items_by_age_group(age_group):\n",
        "    # Filter data for the specific age group\n",
        "    age_group_data =  # FILL IN THE CODE\n",
        "\n",
        "    # Sort data by 'Quantity' in descending order and get the top 10 items\n",
        "    top_items =  # FILL IN THE CODE\n",
        "\n",
        "    # Plot the top 10 items\n",
        "    plt.figure(figsize=(10, 6))\n",
        "    sns.barplot(y=__________, x=__________, data=top_items)  # FILL IN THE CODE\n",
        "    plt.title(f'Top 10 Most Popular Items for Age Group: {age_group}', fontsize=14)\n",
        "    plt.ylabel('Item')\n",
        "    plt.xlabel('Quantity')\n",
        "    plt.show()\n",
        "\n",
        "# Plot the top 10 items for each age group\n",
        "# FILL IN THE CODE\n"
      ]
    }
  ]
}