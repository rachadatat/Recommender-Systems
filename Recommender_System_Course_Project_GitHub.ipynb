{
  "nbformat": 4,
  "nbformat_minor": 0,
  "metadata": {
    "colab": {
      "provenance": []
    },
    "kernelspec": {
      "name": "python3",
      "display_name": "Python 3"
    },
    "language_info": {
      "name": "python"
    }
  },
  "cells": [
    {
      "cell_type": "markdown",
      "source": [
        "# Graded Assessment -- AAI 6350 Recommender Systems Course --"
      ],
      "metadata": {
        "id": "2pZyDezN6cLJ"
      }
    },
    {
      "cell_type": "markdown",
      "source": [
        "# Part 1: Recommendation System Using GCNN [weight: 40\\%]"
      ],
      "metadata": {
        "id": "vrOzAVmq3pWB"
      }
    },
    {
      "cell_type": "markdown",
      "source": [
        "# Step 1: Data Preparation\n",
        "- Load the Data: Read the Excel file and extract the relevant columns (CustomerID, StockCode, Quantity).\n",
        "- Data Cleaning: Ensure there are no missing values in the relevant columns.\n",
        "- Create Interaction Matrix: Construct an adjacency matrix where rows represent customers and columns represent items. The values in the matrix will be the quantities purchased."
      ],
      "metadata": {
        "id": "sCoSCUQqjEzp"
      }
    },
    {
      "cell_type": "code",
      "execution_count": null,
      "metadata": {
        "id": "Lc0BmAXOjBAH"
      },
      "outputs": [],
      "source": [
        "import pandas as pd\n",
        "import numpy as np\n",
        "\n",
        "# Load the dataset\n",
        "data = pd.read_excel('Rec_sys_data.xlsx')\n",
        "\n",
        "# Create a pivot table to form the interaction matrix\n",
        "interaction_matrix = data.pivot_table(index='CustomerID', columns='StockCode', values='Quantity', fill_value=0)\n",
        "\n",
        "# Convert to a NumPy array for further processing\n",
        "interaction_matrix = interaction_matrix.values"
      ]
    },
    {
      "cell_type": "markdown",
      "source": [
        "# Step 2: Graph Construction [25 points]\n",
        "- Graph Representation: Each customer and item will be a node in the graph. An edge exists between a customer and an item if the customer has purchased that item.\n",
        "- Adjacency Matrix: Create an adjacency matrix where the rows represent customers and the columns represent items."
      ],
      "metadata": {
        "id": "hmkY6QpXjRE8"
      }
    },
    {
      "cell_type": "code",
      "source": [
        "# Fill in this cell"
      ],
      "metadata": {
        "id": "UrRjHlKVjbft"
      },
      "execution_count": null,
      "outputs": []
    },
    {
      "cell_type": "markdown",
      "source": [
        "# Step 3: Model Definition (GCNN) [35 points]\n",
        "- Define the GCNN Architecture: Use a library like PyTorch Geometric or TensorFlow with Keras to define the GCNN model.\n",
        "- The model will consist of graph convolutional layers that learn representations for both customers and items.\n",
        "- Prepare Data for Training: Convert the adjacency matrix and features into a format suitable for the GCNN."
      ],
      "metadata": {
        "id": "oM779u1Mjf-0"
      }
    },
    {
      "cell_type": "code",
      "source": [
        "# Fill in this cell"
      ],
      "metadata": {
        "id": "wqqPW_xWjnLi"
      },
      "execution_count": null,
      "outputs": []
    },
    {
      "cell_type": "markdown",
      "source": [
        "# Step 4: Training the Model [40 points]\n",
        "\n",
        "- Loss Function: Use a suitable loss function, such as Mean Squared Error (MSE) as we are working with continuous interaction scores.\n",
        "- Optimizer: Choose an optimizer like Adam or SGD.\n",
        "- Training Loop: Implement the training loop to update the model weights based on the loss. In each epoch, calculate the predictions using the model, compute the loss between predicted and actual values, and perform backpropagation to update the model's weights.\n",
        "- Also compute the validation loss to evaluate the model's performance on unseen data, and use early stopping to halt training when the validation loss stops improving, preventing overfitting."
      ],
      "metadata": {
        "id": "VG6dBRgXj4Q4"
      }
    },
    {
      "cell_type": "code",
      "source": [
        "# Fill in this cell"
      ],
      "metadata": {
        "id": "3hguhjvFkDhs"
      },
      "execution_count": null,
      "outputs": []
    },
    {
      "cell_type": "markdown",
      "source": [
        "# Part 2: Recommendation System Evaluation and Comparison Using GCNN and NeuMF Models [weight: 30\\%]"
      ],
      "metadata": {
        "id": "7qGm-oBQ3w-y"
      }
    },
    {
      "cell_type": "markdown",
      "source": [
        "# Step 1: Evaluation [40 points]\n",
        "\n",
        "To calculate the average precision, recall, and F1 score for all customers, follow these steps:\n",
        "\n",
        "- Obtain Model Predictions: Use the trained model to predict interaction scores for all customer-item pairs in the validation set.\n",
        "\n",
        "- Rank Items by Predicted Scores: For each customer, rank items based on the predicted interaction scores in descending order.\n",
        "\n",
        "- Define Relevant Items: Set a threshold to determine which items are considered relevant (e.g., based on the top-k predictions or actual interactions greater than zero).\n",
        "\n",
        "- Calculate Precision, Recall, and F1 Score for Each Customer: For each customer, calculate precision, recall, and F1 score using the relevant predicted and actual items.\n",
        "\n",
        "- Compute Average Precision, Recall, and F1 Score: Calculate the mean of precision, recall, and F1 scores across all customers."
      ],
      "metadata": {
        "id": "-Be3vugeLBvo"
      }
    },
    {
      "cell_type": "code",
      "source": [
        "# Fill in this cell"
      ],
      "metadata": {
        "id": "zpqfy7nHLG0D"
      },
      "execution_count": null,
      "outputs": []
    },
    {
      "cell_type": "markdown",
      "source": [
        "# Step 2: Generating Recommendations and Evaluating for a Specific Customer [40 points]\n",
        "\n",
        "1- Mapping Customer IDs to Indices.\n",
        "\n",
        "2- Get Predicted Scores for the Customer.\n",
        "\n",
        "3- Rank Items by Predicted Scores.\n",
        "\n",
        "4- Map Recommended Items to Stock Codes.\n",
        "\n",
        "5- Compare Recommendations with Actual Interactions.\n",
        "\n",
        "6- Calculate Precision, Recall, and F1 Score."
      ],
      "metadata": {
        "id": "mYvJq4c4iz2l"
      }
    },
    {
      "cell_type": "code",
      "source": [
        "data_prod = pd.read_excel('Rec_sys_data.xlsx', sheet_name='product')"
      ],
      "metadata": {
        "id": "YZ6-QpBQb4iL"
      },
      "execution_count": null,
      "outputs": []
    },
    {
      "cell_type": "code",
      "source": [
        "# Create a mapping from StockCode to product names\n",
        "item_titles = data_prod[['StockCode', 'Product Name']].drop_duplicates()\n",
        "item_titles_dict = dict(zip(item_titles['StockCode'], item_titles['Product Name']))"
      ],
      "metadata": {
        "id": "L91TapQdb-pi"
      },
      "execution_count": null,
      "outputs": []
    },
    {
      "cell_type": "code",
      "source": [
        "# Fill in this cell"
      ],
      "metadata": {
        "id": "1rC2hucjZmfV"
      },
      "execution_count": null,
      "outputs": []
    },
    {
      "cell_type": "markdown",
      "source": [
        "# Step 3: Discussion of Results [20 points]\n",
        "\n",
        "Discuss the performance of the GCNN model compared to the Feedforward NeuMF model. Provide insights on which model performs better and why, based on the evaluation metrics. Consider aspects like Precision@K, Recall@K, and F1 score.\n",
        "\n",
        "Compare the recommended items for Customer 17850 generated by your model with those recommended by Neo4j. Are there similarities between the two sets of recommendations?"
      ],
      "metadata": {
        "id": "06lNrA-IjsPR"
      }
    }
  ]
}